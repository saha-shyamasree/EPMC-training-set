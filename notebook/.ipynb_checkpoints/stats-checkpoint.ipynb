{
 "cells": [
  {
   "cell_type": "code",
   "execution_count": 1,
   "metadata": {
    "collapsed": true,
    "pycharm": {
     "is_executing": false
    }
   },
   "outputs": [
    {
     "name": "stdout",
     "output_type": "stream",
     "text": [
      "300\n",
      "114079 114079\n"
     ]
    }
   ],
   "source": [
    "import matplotlib\n",
    "%matplotlib inline\n",
    "import matplotlib.pyplot as plt\n",
    "\n",
    "import pandas as pd\n",
    "import seaborn as sns\n",
    "import json\n",
    "import csv\n",
    "import os\n",
    "from collections import defaultdict\n",
    "import numpy as np\n",
    "\n",
    "def num_sents_json(fpath):\n",
    "    ner_stats = defaultdict(list)\n",
    "    rel_stats = defaultdict(int)\n",
    "    with open(fpath, 'r') as f:\n",
    "        dataset = json.load(f)\n",
    "    print(len(dataset))\n",
    "    num_sents = 0\n",
    "    num = 0\n",
    "    for pmcid in dataset:\n",
    "        num_sents_per_article = len(dataset[pmcid]['annotations'])\n",
    "        num_sents += num_sents_per_article\n",
    "        num += dataset[pmcid]['doc_len']\n",
    "        for sent in dataset[pmcid]['annotations']:\n",
    "            if sent['ner']:\n",
    "                for ner in sent['ner']:\n",
    "                    ner_stats[ner[-1]].append(ner)\n",
    "            if sent['rel']:\n",
    "                rel_stats[sent['rel']] += 1\n",
    "    print(num_sents, num)\n",
    "    return ner_stats, rel_stats\n",
    "   \n",
    "json_fpath = \"annotations/JSON/ner_rel_fulltext_full.json\"\n",
    "all_ner_stats, all_rel_stats = num_sents_json(json_fpath)"
   ]
  },
  {
   "cell_type": "code",
   "execution_count": 2,
   "metadata": {
    "pycharm": {
     "is_executing": false,
     "name": "#%%\n"
    }
   },
   "outputs": [
    {
     "data": {
      "text/plain": [
       "dict_keys(['GP', 'OG', 'DS'])"
      ]
     },
     "execution_count": 2,
     "metadata": {},
     "output_type": "execute_result"
    }
   ],
   "source": [
    "all_ner_stats.keys()"
   ]
  },
  {
   "cell_type": "code",
   "execution_count": 3,
   "metadata": {
    "pycharm": {
     "is_executing": false,
     "name": "#%%\n"
    }
   },
   "outputs": [
    {
     "data": {
      "text/plain": [
       "defaultdict(int, {'YGD': 636, 'NGD': 422, 'AMB': 25})"
      ]
     },
     "execution_count": 3,
     "metadata": {},
     "output_type": "execute_result"
    }
   ],
   "source": [
    "all_rel_stats"
   ]
  },
  {
   "cell_type": "code",
   "execution_count": 4,
   "metadata": {
    "pycharm": {
     "is_executing": false,
     "name": "#%%\n"
    }
   },
   "outputs": [],
   "source": [
    "all_tag_stats = {key:len(all_ner_stats[key]) for key in all_ner_stats}"
   ]
  },
  {
   "cell_type": "code",
   "execution_count": 5,
   "metadata": {
    "pycharm": {
     "is_executing": false,
     "name": "#%%\n"
    }
   },
   "outputs": [
    {
     "data": {
      "text/plain": [
       "{'GP': 36414, 'OG': 21514, 'DS': 14546}"
      ]
     },
     "execution_count": 5,
     "metadata": {},
     "output_type": "execute_result"
    }
   ],
   "source": [
    "all_tag_stats"
   ]
  },
  {
   "cell_type": "code",
   "execution_count": 6,
   "metadata": {
    "pycharm": {
     "is_executing": false,
     "name": "#%%\n"
    }
   },
   "outputs": [],
   "source": [
    "gp_stats = defaultdict(int)\n",
    "ds_stats = defaultdict(int)\n",
    "og_stats = defaultdict(int)\n",
    "for key in all_ner_stats:\n",
    "    if key == 'GP':\n",
    "        for ent in all_ner_stats[key]:\n",
    "            gp_stats[ent[-2]] += 1\n",
    "    if key == 'DS':\n",
    "        for ent in all_ner_stats[key]:\n",
    "            ds_stats[ent[-2]] += 1\n",
    "    if key == 'OG':\n",
    "        for ent in all_ner_stats[key]:\n",
    "            og_stats[ent[-2]] += 1\n"
   ]
  },
  {
   "cell_type": "code",
   "execution_count": 7,
   "metadata": {
    "pycharm": {
     "is_executing": false,
     "name": "#%%\n"
    }
   },
   "outputs": [
    {
     "name": "stdout",
     "output_type": "stream",
     "text": [
      "unique GP count: 5603\n",
      "unique DS count: 2044\n",
      "unique OG count: 2348\n"
     ]
    }
   ],
   "source": [
    "print(f'unique GP count: {len(gp_stats)}')\n",
    "print(f'unique DS count: {len(ds_stats)}')\n",
    "print(f'unique OG count: {len(og_stats)}')"
   ]
  },
  {
   "cell_type": "code",
   "execution_count": 8,
   "metadata": {
    "pycharm": {
     "is_executing": false,
     "name": "#%%\n"
    }
   },
   "outputs": [
    {
     "data": {
      "text/plain": [
       "[('GFP', 467),\n",
       " ('antibody', 278),\n",
       " ('antibodies', 248),\n",
       " ('CD4', 234),\n",
       " ('MTAP', 234),\n",
       " ('IL-10', 233),\n",
       " ('Shank3', 225),\n",
       " ('p53', 218),\n",
       " ('MLL', 214),\n",
       " ('IgG', 212)]"
      ]
     },
     "execution_count": 8,
     "metadata": {},
     "output_type": "execute_result"
    }
   ],
   "source": [
    "sorted(gp_stats.items(),key=lambda x: x[1], reverse=True)[:10]\n"
   ]
  },
  {
   "cell_type": "code",
   "execution_count": 9,
   "metadata": {
    "pycharm": {
     "is_executing": false,
     "name": "#%%\n"
    }
   },
   "outputs": [
    {
     "data": {
      "text/plain": [
       "[('tumor', 536),\n",
       " ('cancer', 366),\n",
       " ('infection', 343),\n",
       " ('HCC', 236),\n",
       " ('breast cancer', 234),\n",
       " ('CF', 206),\n",
       " ('tumour', 201),\n",
       " ('depression', 191),\n",
       " ('obesity', 170),\n",
       " ('PH', 169)]"
      ]
     },
     "execution_count": 9,
     "metadata": {},
     "output_type": "execute_result"
    }
   ],
   "source": [
    "sorted(ds_stats.items(),key=lambda x: x[1], reverse=True)[:10]"
   ]
  },
  {
   "cell_type": "code",
   "execution_count": 10,
   "metadata": {
    "pycharm": {
     "is_executing": false,
     "name": "#%%\n"
    }
   },
   "outputs": [
    {
     "data": {
      "text/plain": [
       "[('mice', 1483),\n",
       " ('human', 1229),\n",
       " ('HIV', 799),\n",
       " ('mouse', 563),\n",
       " ('plants', 451),\n",
       " ('rats', 415),\n",
       " ('animals', 381),\n",
       " ('bacteria', 316),\n",
       " ('plant', 307),\n",
       " ('animal', 296)]"
      ]
     },
     "execution_count": 10,
     "metadata": {},
     "output_type": "execute_result"
    }
   ],
   "source": [
    "sorted(og_stats.items(),key=lambda x: x[1], reverse=True)[:10]\n"
   ]
  },
  {
   "cell_type": "code",
   "execution_count": 11,
   "metadata": {
    "pycharm": {
     "is_executing": false,
     "name": "#%%\n"
    }
   },
   "outputs": [],
   "source": [
    "def num_sents_json_per_article(fpath):\n",
    "    ner_stats = {}\n",
    "    rel_stats = {}\n",
    "    sent_stats = defaultdict(int)\n",
    "    with open(fpath, 'r') as f:\n",
    "        dataset = json.load(f)\n",
    "    print(len(dataset))\n",
    "    num_sents = 0\n",
    "    num = 0\n",
    "    for pmcid in dataset:\n",
    "        ner_stats[pmcid] = defaultdict(list)\n",
    "        rel_stats[pmcid] = defaultdict(int)\n",
    "        num_sents_per_article = len(dataset[pmcid]['annotations'])\n",
    "        num_sents += num_sents_per_article\n",
    "        num += dataset[pmcid]['doc_len']\n",
    "        \n",
    "        sent_stats[pmcid] = num_sents_per_article\n",
    "        \n",
    "        for sent in dataset[pmcid]['annotations']:\n",
    "            if sent['ner']:\n",
    "                for ner in sent['ner']:\n",
    "                    ner_stats[pmcid][ner[-1]].append(ner)\n",
    "            if sent['rel']:\n",
    "                rel_stats[pmcid][sent['rel']] += 1\n",
    "    print(num_sents, num)\n",
    "    return ner_stats, rel_stats, sent_stats\n"
   ]
  },
  {
   "cell_type": "code",
   "execution_count": 12,
   "metadata": {
    "pycharm": {
     "is_executing": false,
     "name": "#%%\n"
    }
   },
   "outputs": [
    {
     "name": "stdout",
     "output_type": "stream",
     "text": [
      "300\n",
      "114079 114079\n"
     ]
    }
   ],
   "source": [
    "article_ner_stats, article_rel_stats, article_sent_stats = num_sents_json_per_article(json_fpath)\n"
   ]
  },
  {
   "cell_type": "code",
   "execution_count": 13,
   "metadata": {
    "pycharm": {
     "is_executing": false,
     "name": "#%%\n"
    }
   },
   "outputs": [
    {
     "data": {
      "text/plain": [
       "defaultdict(int,\n",
       "            {'PMC4792959': 278,\n",
       "             'PMC4556948': 382,\n",
       "             'PMC5993813': 257,\n",
       "             'PMC3174205': 789,\n",
       "             'PMC5962829': 256,\n",
       "             'PMC3874094': 387,\n",
       "             'PMC3792120': 264,\n",
       "             'PMC4901335': 367,\n",
       "             'PMC3581133': 386,\n",
       "             'PMC2935479': 306,\n",
       "             'PMC5225553': 291,\n",
       "             'PMC5744400': 212,\n",
       "             'PMC3281816': 365,\n",
       "             'PMC3583137': 582,\n",
       "             'PMC4022742': 286,\n",
       "             'PMC3542345': 810,\n",
       "             'PMC4452330': 359,\n",
       "             'PMC4464872': 229,\n",
       "             'PMC4872455': 358,\n",
       "             'PMC3651197': 429,\n",
       "             'PMC3362782': 241,\n",
       "             'PMC5817132': 456,\n",
       "             'PMC4313693': 781,\n",
       "             'PMC4489904': 556,\n",
       "             'PMC4552872': 303,\n",
       "             'PMC5376652': 390,\n",
       "             'PMC5070310': 366,\n",
       "             'PMC5921292': 209,\n",
       "             'PMC5641157': 285,\n",
       "             'PMC3751948': 328,\n",
       "             'PMC5472290': 518,\n",
       "             'PMC4649626': 240,\n",
       "             'PMC5502978': 294,\n",
       "             'PMC4767726': 356,\n",
       "             'PMC3897916': 593,\n",
       "             'PMC5087830': 286,\n",
       "             'PMC3585192': 924,\n",
       "             'PMC5484670': 243,\n",
       "             'PMC5259676': 976,\n",
       "             'PMC3024232': 597,\n",
       "             'PMC3097211': 321,\n",
       "             'PMC5317055': 283,\n",
       "             'PMC3648400': 394,\n",
       "             'PMC5750880': 749,\n",
       "             'PMC5100220': 162,\n",
       "             'PMC4749753': 189,\n",
       "             'PMC5344356': 221,\n",
       "             'PMC5110973': 289,\n",
       "             'PMC5708618': 317,\n",
       "             'PMC3598673': 595,\n",
       "             'PMC3751959': 178,\n",
       "             'PMC5131611': 401,\n",
       "             'PMC5891595': 1191,\n",
       "             'PMC3950279': 326,\n",
       "             'PMC5972578': 195,\n",
       "             'PMC5082793': 415,\n",
       "             'PMC5487420': 315,\n",
       "             'PMC5106849': 264,\n",
       "             'PMC3858553': 407,\n",
       "             'PMC3613406': 322,\n",
       "             'PMC4167147': 276,\n",
       "             'PMC3599585': 741,\n",
       "             'PMC2761781': 570,\n",
       "             'PMC3899050': 315,\n",
       "             'PMC2481430': 348,\n",
       "             'PMC5006041': 316,\n",
       "             'PMC4790888': 531,\n",
       "             'PMC3892176': 237,\n",
       "             'PMC5126123': 304,\n",
       "             'PMC4743178': 294,\n",
       "             'PMC3322675': 221,\n",
       "             'PMC3938772': 248,\n",
       "             'PMC5832847': 220,\n",
       "             'PMC4067685': 281,\n",
       "             'PMC5260044': 210,\n",
       "             'PMC3972685': 618,\n",
       "             'PMC5982820': 380,\n",
       "             'PMC4618948': 246,\n",
       "             'PMC4831690': 448,\n",
       "             'PMC4753424': 541,\n",
       "             'PMC4340678': 188,\n",
       "             'PMC2757916': 252,\n",
       "             'PMC3439437': 358,\n",
       "             'PMC3233425': 535,\n",
       "             'PMC4603952': 505,\n",
       "             'PMC4128218': 384,\n",
       "             'PMC4940692': 285,\n",
       "             'PMC6083812': 253,\n",
       "             'PMC3304128': 584,\n",
       "             'PMC4276928': 344,\n",
       "             'PMC5395742': 343,\n",
       "             'PMC3800775': 262,\n",
       "             'PMC5703515': 965,\n",
       "             'PMC3388477': 325,\n",
       "             'PMC2474741': 481,\n",
       "             'PMC2268669': 939,\n",
       "             'PMC5350351': 304,\n",
       "             'PMC5979449': 365,\n",
       "             'PMC4531540': 249,\n",
       "             'PMC4056076': 299,\n",
       "             'PMC4554469': 470,\n",
       "             'PMC3125229': 900,\n",
       "             'PMC4189602': 256,\n",
       "             'PMC4627615': 208,\n",
       "             'PMC4921679': 299,\n",
       "             'PMC5785827': 219,\n",
       "             'PMC6069148': 589,\n",
       "             'PMC4607270': 285,\n",
       "             'PMC5521126': 339,\n",
       "             'PMC5666160': 260,\n",
       "             'PMC4978644': 143,\n",
       "             'PMC5278426': 215,\n",
       "             'PMC1762380': 534,\n",
       "             'PMC4764649': 443,\n",
       "             'PMC2424173': 232,\n",
       "             'PMC4789058': 529,\n",
       "             'PMC5891899': 279,\n",
       "             'PMC2644373': 222,\n",
       "             'PMC4931053': 446,\n",
       "             'PMC5120353': 455,\n",
       "             'PMC3867463': 660,\n",
       "             'PMC5530572': 265,\n",
       "             'PMC4540425': 917,\n",
       "             'PMC3260253': 197,\n",
       "             'PMC3189878': 529,\n",
       "             'PMC3306317': 965,\n",
       "             'PMC4263299': 227,\n",
       "             'PMC5468280': 186,\n",
       "             'PMC4465466': 251,\n",
       "             'PMC5141432': 361,\n",
       "             'PMC2720973': 589,\n",
       "             'PMC5889178': 575,\n",
       "             'PMC4349710': 281,\n",
       "             'PMC3960246': 387,\n",
       "             'PMC6037156': 365,\n",
       "             'PMC5298922': 411,\n",
       "             'PMC4494930': 395,\n",
       "             'PMC3829848': 222,\n",
       "             'PMC4954838': 169,\n",
       "             'PMC4200311': 396,\n",
       "             'PMC5315555': 588,\n",
       "             'PMC5607173': 268,\n",
       "             'PMC5730077': 575,\n",
       "             'PMC5462789': 348,\n",
       "             'PMC4109790': 411,\n",
       "             'PMC5637056': 312,\n",
       "             'PMC3291930': 241,\n",
       "             'PMC5999171': 207,\n",
       "             'PMC5920331': 442,\n",
       "             'PMC5362908': 296,\n",
       "             'PMC4816555': 345,\n",
       "             'PMC4768280': 287,\n",
       "             'PMC3494018': 377,\n",
       "             'PMC5462825': 216,\n",
       "             'PMC5706499': 266,\n",
       "             'PMC4574349': 273,\n",
       "             'PMC4320556': 211,\n",
       "             'PMC3478264': 262,\n",
       "             'PMC4405200': 293,\n",
       "             'PMC5619751': 331,\n",
       "             'PMC3020944': 581,\n",
       "             'PMC5486778': 143,\n",
       "             'PMC5356474': 365,\n",
       "             'PMC5009309': 389,\n",
       "             'PMC4359122': 273,\n",
       "             'PMC4128749': 489,\n",
       "             'PMC5134075': 278,\n",
       "             'PMC5286694': 203,\n",
       "             'PMC3228540': 693,\n",
       "             'PMC5241644': 292,\n",
       "             'PMC4899918': 216,\n",
       "             'PMC2731044': 419,\n",
       "             'PMC4302291': 355,\n",
       "             'PMC3836741': 378,\n",
       "             'PMC4414469': 271,\n",
       "             'PMC5680628': 199,\n",
       "             'PMC4794213': 360,\n",
       "             'PMC4237798': 507,\n",
       "             'PMC3895799': 266,\n",
       "             'PMC4051664': 307,\n",
       "             'PMC5302783': 376,\n",
       "             'PMC2936521': 1599,\n",
       "             'PMC4923249': 436,\n",
       "             'PMC5249225': 244,\n",
       "             'PMC4871916': 165,\n",
       "             'PMC4384350': 309,\n",
       "             'PMC5528876': 980,\n",
       "             'PMC4944956': 471,\n",
       "             'PMC5770482': 182,\n",
       "             'PMC3981893': 238,\n",
       "             'PMC5779698': 305,\n",
       "             'PMC4090160': 751,\n",
       "             'PMC6069223': 676,\n",
       "             'PMC5306324': 203,\n",
       "             'PMC4417603': 237,\n",
       "             'PMC3365900': 245,\n",
       "             'PMC4262987': 317,\n",
       "             'PMC4841026': 179,\n",
       "             'PMC3502096': 369,\n",
       "             'PMC4973533': 231,\n",
       "             'PMC5244658': 322,\n",
       "             'PMC3119053': 579,\n",
       "             'PMC4766309': 707,\n",
       "             'PMC5685608': 381,\n",
       "             'PMC1971115': 357,\n",
       "             'PMC5367487': 395,\n",
       "             'PMC5617383': 244,\n",
       "             'PMC3543396': 268,\n",
       "             'PMC4294342': 357,\n",
       "             'PMC3534334': 392,\n",
       "             'PMC4964887': 298,\n",
       "             'PMC6035403': 210,\n",
       "             'PMC4912736': 217,\n",
       "             'PMC3035578': 273,\n",
       "             'PMC5004205': 371,\n",
       "             'PMC4156656': 275,\n",
       "             'PMC2233677': 346,\n",
       "             'PMC4200867': 322,\n",
       "             'PMC4914568': 316,\n",
       "             'PMC2904378': 496,\n",
       "             'PMC5216082': 385,\n",
       "             'PMC3787392': 319,\n",
       "             'PMC6023005': 230,\n",
       "             'PMC3949526': 297,\n",
       "             'PMC3435272': 212,\n",
       "             'PMC3031208': 318,\n",
       "             'PMC4892805': 207,\n",
       "             'PMC5369143': 536,\n",
       "             'PMC4906686': 199,\n",
       "             'PMC3316545': 244,\n",
       "             'PMC4051163': 707,\n",
       "             'PMC4010498': 327,\n",
       "             'PMC5227166': 477,\n",
       "             'PMC3061204': 414,\n",
       "             'PMC2386054': 262,\n",
       "             'PMC3584731': 225,\n",
       "             'PMC5426787': 387,\n",
       "             'PMC5722940': 266,\n",
       "             'PMC4462005': 302,\n",
       "             'PMC3692464': 348,\n",
       "             'PMC3836913': 266,\n",
       "             'PMC4162557': 224,\n",
       "             'PMC4542470': 431,\n",
       "             'PMC5731848': 317,\n",
       "             'PMC5026174': 363,\n",
       "             'PMC6008929': 261,\n",
       "             'PMC5959848': 329,\n",
       "             'PMC2946298': 571,\n",
       "             'PMC4499843': 183,\n",
       "             'PMC5890137': 436,\n",
       "             'PMC4352028': 295,\n",
       "             'PMC4951087': 298,\n",
       "             'PMC2987983': 518,\n",
       "             'PMC3402998': 510,\n",
       "             'PMC3115949': 318,\n",
       "             'PMC4589515': 671,\n",
       "             'PMC5510223': 231,\n",
       "             'PMC2727484': 582,\n",
       "             'PMC3464611': 281,\n",
       "             'PMC4441378': 281,\n",
       "             'PMC2478677': 741,\n",
       "             'PMC2806293': 321,\n",
       "             'PMC4647564': 259,\n",
       "             'PMC4866616': 648,\n",
       "             'PMC5530482': 253,\n",
       "             'PMC2664782': 537,\n",
       "             'PMC5816796': 209,\n",
       "             'PMC3844564': 657,\n",
       "             'PMC5770383': 258,\n",
       "             'PMC5567653': 417,\n",
       "             'PMC4697806': 830,\n",
       "             'PMC5457019': 318,\n",
       "             'PMC5297700': 290,\n",
       "             'PMC4683867': 178,\n",
       "             'PMC4244103': 388,\n",
       "             'PMC2639708': 233,\n",
       "             'PMC4791522': 232,\n",
       "             'PMC5307887': 212,\n",
       "             'PMC4311248': 602,\n",
       "             'PMC4658497': 253,\n",
       "             'PMC3611597': 355,\n",
       "             'PMC1187897': 329,\n",
       "             'PMC4991502': 265,\n",
       "             'PMC3231843': 360,\n",
       "             'PMC3859478': 228,\n",
       "             'PMC5723443': 255,\n",
       "             'PMC5217317': 211,\n",
       "             'PMC6032655': 335,\n",
       "             'PMC3029330': 660,\n",
       "             'PMC4306119': 341,\n",
       "             'PMC2443369': 284,\n",
       "             'PMC4971634': 226,\n",
       "             'PMC2895614': 750,\n",
       "             'PMC4780767': 223,\n",
       "             'PMC5078810': 254,\n",
       "             'PMC4947190': 381,\n",
       "             'PMC4976205': 265,\n",
       "             'PMC2292144': 810,\n",
       "             'PMC4808240': 892,\n",
       "             'PMC3458065': 314})"
      ]
     },
     "execution_count": 13,
     "metadata": {},
     "output_type": "execute_result"
    }
   ],
   "source": [
    "article_sent_stats"
   ]
  },
  {
   "cell_type": "code",
   "execution_count": 14,
   "metadata": {
    "pycharm": {
     "is_executing": false,
     "name": "#%%\n"
    }
   },
   "outputs": [
    {
     "data": {
      "text/plain": [
       "{'PMC4792959': defaultdict(int, {}),\n",
       " 'PMC4556948': defaultdict(int, {}),\n",
       " 'PMC5993813': defaultdict(int, {}),\n",
       " 'PMC3174205': defaultdict(int, {'YGD': 24, 'NGD': 14}),\n",
       " 'PMC5962829': defaultdict(int, {}),\n",
       " 'PMC3874094': defaultdict(int, {}),\n",
       " 'PMC3792120': defaultdict(int, {}),\n",
       " 'PMC4901335': defaultdict(int, {}),\n",
       " 'PMC3581133': defaultdict(int, {}),\n",
       " 'PMC2935479': defaultdict(int, {}),\n",
       " 'PMC5225553': defaultdict(int, {'NGD': 7}),\n",
       " 'PMC5744400': defaultdict(int, {}),\n",
       " 'PMC3281816': defaultdict(int, {'NGD': 7}),\n",
       " 'PMC3583137': defaultdict(int, {}),\n",
       " 'PMC4022742': defaultdict(int, {}),\n",
       " 'PMC3542345': defaultdict(int, {'NGD': 12, 'YGD': 2}),\n",
       " 'PMC4452330': defaultdict(int, {}),\n",
       " 'PMC4464872': defaultdict(int, {}),\n",
       " 'PMC4872455': defaultdict(int, {'YGD': 4, 'NGD': 3}),\n",
       " 'PMC3651197': defaultdict(int, {}),\n",
       " 'PMC3362782': defaultdict(int, {}),\n",
       " 'PMC5817132': defaultdict(int, {}),\n",
       " 'PMC4313693': defaultdict(int, {}),\n",
       " 'PMC4489904': defaultdict(int, {}),\n",
       " 'PMC4552872': defaultdict(int, {}),\n",
       " 'PMC5376652': defaultdict(int, {'YGD': 4, 'NGD': 2}),\n",
       " 'PMC5070310': defaultdict(int, {}),\n",
       " 'PMC5921292': defaultdict(int, {}),\n",
       " 'PMC5641157': defaultdict(int, {'NGD': 9, 'YGD': 11}),\n",
       " 'PMC3751948': defaultdict(int, {'NGD': 8}),\n",
       " 'PMC5472290': defaultdict(int, {}),\n",
       " 'PMC4649626': defaultdict(int, {}),\n",
       " 'PMC5502978': defaultdict(int, {'NGD': 2}),\n",
       " 'PMC4767726': defaultdict(int, {}),\n",
       " 'PMC3897916': defaultdict(int, {}),\n",
       " 'PMC5087830': defaultdict(int, {'YGD': 12, 'NGD': 8}),\n",
       " 'PMC3585192': defaultdict(int, {}),\n",
       " 'PMC5484670': defaultdict(int, {}),\n",
       " 'PMC5259676': defaultdict(int, {'NGD': 2}),\n",
       " 'PMC3024232': defaultdict(int, {}),\n",
       " 'PMC3097211': defaultdict(int, {}),\n",
       " 'PMC5317055': defaultdict(int, {}),\n",
       " 'PMC3648400': defaultdict(int, {}),\n",
       " 'PMC5750880': defaultdict(int, {}),\n",
       " 'PMC5100220': defaultdict(int, {}),\n",
       " 'PMC4749753': defaultdict(int, {}),\n",
       " 'PMC5344356': defaultdict(int, {'NGD': 19}),\n",
       " 'PMC5110973': defaultdict(int, {}),\n",
       " 'PMC5708618': defaultdict(int, {}),\n",
       " 'PMC3598673': defaultdict(int, {'NGD': 2}),\n",
       " 'PMC3751959': defaultdict(int, {'NGD': 3}),\n",
       " 'PMC5131611': defaultdict(int, {}),\n",
       " 'PMC5891595': defaultdict(int, {}),\n",
       " 'PMC3950279': defaultdict(int, {}),\n",
       " 'PMC5972578': defaultdict(int, {}),\n",
       " 'PMC5082793': defaultdict(int, {}),\n",
       " 'PMC5487420': defaultdict(int, {'NGD': 7, 'YGD': 8}),\n",
       " 'PMC5106849': defaultdict(int, {}),\n",
       " 'PMC3858553': defaultdict(int, {'YGD': 10, 'NGD': 7, 'AMB': 1}),\n",
       " 'PMC3613406': defaultdict(int, {}),\n",
       " 'PMC4167147': defaultdict(int, {'YGD': 18, 'NGD': 3}),\n",
       " 'PMC3599585': defaultdict(int, {}),\n",
       " 'PMC2761781': defaultdict(int, {}),\n",
       " 'PMC3899050': defaultdict(int, {'NGD': 4}),\n",
       " 'PMC2481430': defaultdict(int, {}),\n",
       " 'PMC5006041': defaultdict(int, {}),\n",
       " 'PMC4790888': defaultdict(int, {}),\n",
       " 'PMC3892176': defaultdict(int, {'YGD': 12, 'AMB': 13, 'NGD': 9}),\n",
       " 'PMC5126123': defaultdict(int, {'NGD': 2}),\n",
       " 'PMC4743178': defaultdict(int, {}),\n",
       " 'PMC3322675': defaultdict(int, {}),\n",
       " 'PMC3938772': defaultdict(int, {}),\n",
       " 'PMC5832847': defaultdict(int, {}),\n",
       " 'PMC4067685': defaultdict(int, {}),\n",
       " 'PMC5260044': defaultdict(int, {}),\n",
       " 'PMC3972685': defaultdict(int, {'NGD': 3}),\n",
       " 'PMC5982820': defaultdict(int, {}),\n",
       " 'PMC4618948': defaultdict(int, {}),\n",
       " 'PMC4831690': defaultdict(int, {}),\n",
       " 'PMC4753424': defaultdict(int, {}),\n",
       " 'PMC4340678': defaultdict(int, {'NGD': 4}),\n",
       " 'PMC2757916': defaultdict(int, {}),\n",
       " 'PMC3439437': defaultdict(int, {'NGD': 2}),\n",
       " 'PMC3233425': defaultdict(int, {}),\n",
       " 'PMC4603952': defaultdict(int, {}),\n",
       " 'PMC4128218': defaultdict(int, {}),\n",
       " 'PMC4940692': defaultdict(int, {}),\n",
       " 'PMC6083812': defaultdict(int, {'NGD': 2}),\n",
       " 'PMC3304128': defaultdict(int, {}),\n",
       " 'PMC4276928': defaultdict(int, {}),\n",
       " 'PMC5395742': defaultdict(int, {'YGD': 22, 'NGD': 6}),\n",
       " 'PMC3800775': defaultdict(int, {}),\n",
       " 'PMC5703515': defaultdict(int, {}),\n",
       " 'PMC3388477': defaultdict(int, {'YGD': 1, 'AMB': 1}),\n",
       " 'PMC2474741': defaultdict(int, {}),\n",
       " 'PMC2268669': defaultdict(int, {}),\n",
       " 'PMC5350351': defaultdict(int, {'NGD': 6, 'YGD': 5}),\n",
       " 'PMC5979449': defaultdict(int, {'NGD': 2}),\n",
       " 'PMC4531540': defaultdict(int, {}),\n",
       " 'PMC4056076': defaultdict(int, {}),\n",
       " 'PMC4554469': defaultdict(int, {}),\n",
       " 'PMC3125229': defaultdict(int, {}),\n",
       " 'PMC4189602': defaultdict(int, {}),\n",
       " 'PMC4627615': defaultdict(int, {}),\n",
       " 'PMC4921679': defaultdict(int, {}),\n",
       " 'PMC5785827': defaultdict(int, {}),\n",
       " 'PMC6069148': defaultdict(int, {}),\n",
       " 'PMC4607270': defaultdict(int, {}),\n",
       " 'PMC5521126': defaultdict(int, {'YGD': 7}),\n",
       " 'PMC5666160': defaultdict(int, {}),\n",
       " 'PMC4978644': defaultdict(int, {}),\n",
       " 'PMC5278426': defaultdict(int, {}),\n",
       " 'PMC1762380': defaultdict(int, {}),\n",
       " 'PMC4764649': defaultdict(int, {}),\n",
       " 'PMC2424173': defaultdict(int, {}),\n",
       " 'PMC4789058': defaultdict(int, {}),\n",
       " 'PMC5891899': defaultdict(int, {}),\n",
       " 'PMC2644373': defaultdict(int, {}),\n",
       " 'PMC4931053': defaultdict(int, {'YGD': 2}),\n",
       " 'PMC5120353': defaultdict(int, {'YGD': 12, 'NGD': 4}),\n",
       " 'PMC3867463': defaultdict(int, {}),\n",
       " 'PMC5530572': defaultdict(int, {}),\n",
       " 'PMC4540425': defaultdict(int, {'NGD': 3}),\n",
       " 'PMC3260253': defaultdict(int, {'NGD': 6}),\n",
       " 'PMC3189878': defaultdict(int, {}),\n",
       " 'PMC3306317': defaultdict(int, {}),\n",
       " 'PMC4263299': defaultdict(int, {}),\n",
       " 'PMC5468280': defaultdict(int, {}),\n",
       " 'PMC4465466': defaultdict(int, {}),\n",
       " 'PMC5141432': defaultdict(int, {'NGD': 2}),\n",
       " 'PMC2720973': defaultdict(int, {}),\n",
       " 'PMC5889178': defaultdict(int, {}),\n",
       " 'PMC4349710': defaultdict(int, {}),\n",
       " 'PMC3960246': defaultdict(int, {}),\n",
       " 'PMC6037156': defaultdict(int, {}),\n",
       " 'PMC5298922': defaultdict(int, {'YGD': 9}),\n",
       " 'PMC4494930': defaultdict(int, {'YGD': 42, 'NGD': 12, 'AMB': 1}),\n",
       " 'PMC3829848': defaultdict(int, {}),\n",
       " 'PMC4954838': defaultdict(int, {}),\n",
       " 'PMC4200311': defaultdict(int, {'YGD': 13, 'NGD': 4}),\n",
       " 'PMC5315555': defaultdict(int, {'YGD': 4, 'AMB': 1}),\n",
       " 'PMC5607173': defaultdict(int, {'YGD': 35, 'NGD': 9}),\n",
       " 'PMC5730077': defaultdict(int, {}),\n",
       " 'PMC5462789': defaultdict(int, {}),\n",
       " 'PMC4109790': defaultdict(int, {}),\n",
       " 'PMC5637056': defaultdict(int, {'YGD': 17, 'NGD': 14}),\n",
       " 'PMC3291930': defaultdict(int, {}),\n",
       " 'PMC5999171': defaultdict(int, {'YGD': 8, 'NGD': 6}),\n",
       " 'PMC5920331': defaultdict(int, {}),\n",
       " 'PMC5362908': defaultdict(int, {'NGD': 1}),\n",
       " 'PMC4816555': defaultdict(int, {'NGD': 4}),\n",
       " 'PMC4768280': defaultdict(int, {}),\n",
       " 'PMC3494018': defaultdict(int, {}),\n",
       " 'PMC5462825': defaultdict(int, {}),\n",
       " 'PMC5706499': defaultdict(int, {'NGD': 7, 'YGD': 3}),\n",
       " 'PMC4574349': defaultdict(int, {'YGD': 2}),\n",
       " 'PMC4320556': defaultdict(int, {}),\n",
       " 'PMC3478264': defaultdict(int, {}),\n",
       " 'PMC4405200': defaultdict(int, {}),\n",
       " 'PMC5619751': defaultdict(int, {'NGD': 11, 'YGD': 6}),\n",
       " 'PMC3020944': defaultdict(int, {}),\n",
       " 'PMC5486778': defaultdict(int, {}),\n",
       " 'PMC5356474': defaultdict(int, {}),\n",
       " 'PMC5009309': defaultdict(int, {}),\n",
       " 'PMC4359122': defaultdict(int, {}),\n",
       " 'PMC4128749': defaultdict(int, {'YGD': 1}),\n",
       " 'PMC5134075': defaultdict(int, {}),\n",
       " 'PMC5286694': defaultdict(int, {}),\n",
       " 'PMC3228540': defaultdict(int, {}),\n",
       " 'PMC5241644': defaultdict(int, {}),\n",
       " 'PMC4899918': defaultdict(int, {}),\n",
       " 'PMC2731044': defaultdict(int, {}),\n",
       " 'PMC4302291': defaultdict(int, {}),\n",
       " 'PMC3836741': defaultdict(int, {}),\n",
       " 'PMC4414469': defaultdict(int, {}),\n",
       " 'PMC5680628': defaultdict(int, {}),\n",
       " 'PMC4794213': defaultdict(int, {'NGD': 6}),\n",
       " 'PMC4237798': defaultdict(int, {}),\n",
       " 'PMC3895799': defaultdict(int, {'YGD': 7}),\n",
       " 'PMC4051664': defaultdict(int, {'NGD': 5}),\n",
       " 'PMC5302783': defaultdict(int, {'NGD': 18, 'YGD': 1}),\n",
       " 'PMC2936521': defaultdict(int, {}),\n",
       " 'PMC4923249': defaultdict(int, {}),\n",
       " 'PMC5249225': defaultdict(int, {'NGD': 2}),\n",
       " 'PMC4871916': defaultdict(int, {}),\n",
       " 'PMC4384350': defaultdict(int, {}),\n",
       " 'PMC5528876': defaultdict(int, {}),\n",
       " 'PMC4944956': defaultdict(int, {'YGD': 6}),\n",
       " 'PMC5770482': defaultdict(int, {}),\n",
       " 'PMC3981893': defaultdict(int, {'NGD': 3}),\n",
       " 'PMC5779698': defaultdict(int, {'YGD': 2}),\n",
       " 'PMC4090160': defaultdict(int, {'NGD': 6}),\n",
       " 'PMC6069223': defaultdict(int, {}),\n",
       " 'PMC5306324': defaultdict(int, {}),\n",
       " 'PMC4417603': defaultdict(int, {}),\n",
       " 'PMC3365900': defaultdict(int, {}),\n",
       " 'PMC4262987': defaultdict(int, {}),\n",
       " 'PMC4841026': defaultdict(int, {}),\n",
       " 'PMC3502096': defaultdict(int, {}),\n",
       " 'PMC4973533': defaultdict(int, {}),\n",
       " 'PMC5244658': defaultdict(int, {}),\n",
       " 'PMC3119053': defaultdict(int, {}),\n",
       " 'PMC4766309': defaultdict(int, {}),\n",
       " 'PMC5685608': defaultdict(int, {'NGD': 10}),\n",
       " 'PMC1971115': defaultdict(int, {}),\n",
       " 'PMC5367487': defaultdict(int, {}),\n",
       " 'PMC5617383': defaultdict(int, {'YGD': 7, 'NGD': 6}),\n",
       " 'PMC3543396': defaultdict(int, {}),\n",
       " 'PMC4294342': defaultdict(int, {'YGD': 25, 'NGD': 8}),\n",
       " 'PMC3534334': defaultdict(int, {}),\n",
       " 'PMC4964887': defaultdict(int, {}),\n",
       " 'PMC6035403': defaultdict(int, {}),\n",
       " 'PMC4912736': defaultdict(int, {}),\n",
       " 'PMC3035578': defaultdict(int, {'YGD': 11, 'AMB': 1}),\n",
       " 'PMC5004205': defaultdict(int, {'YGD': 3}),\n",
       " 'PMC4156656': defaultdict(int, {}),\n",
       " 'PMC2233677': defaultdict(int, {'YGD': 1}),\n",
       " 'PMC4200867': defaultdict(int, {'YGD': 16, 'NGD': 4}),\n",
       " 'PMC4914568': defaultdict(int, {}),\n",
       " 'PMC2904378': defaultdict(int, {'YGD': 16, 'NGD': 3}),\n",
       " 'PMC5216082': defaultdict(int, {'YGD': 37, 'NGD': 6}),\n",
       " 'PMC3787392': defaultdict(int, {'YGD': 2}),\n",
       " 'PMC6023005': defaultdict(int, {}),\n",
       " 'PMC3949526': defaultdict(int, {}),\n",
       " 'PMC3435272': defaultdict(int, {}),\n",
       " 'PMC3031208': defaultdict(int, {}),\n",
       " 'PMC4892805': defaultdict(int, {}),\n",
       " 'PMC5369143': defaultdict(int, {}),\n",
       " 'PMC4906686': defaultdict(int, {}),\n",
       " 'PMC3316545': defaultdict(int, {'YGD': 4}),\n",
       " 'PMC4051163': defaultdict(int, {}),\n",
       " 'PMC4010498': defaultdict(int, {'YGD': 4, 'NGD': 1}),\n",
       " 'PMC5227166': defaultdict(int, {}),\n",
       " 'PMC3061204': defaultdict(int, {}),\n",
       " 'PMC2386054': defaultdict(int, {'AMB': 2, 'YGD': 5, 'NGD': 5}),\n",
       " 'PMC3584731': defaultdict(int, {'NGD': 2}),\n",
       " 'PMC5426787': defaultdict(int, {'NGD': 3, 'YGD': 4}),\n",
       " 'PMC5722940': defaultdict(int, {}),\n",
       " 'PMC4462005': defaultdict(int, {}),\n",
       " 'PMC3692464': defaultdict(int, {}),\n",
       " 'PMC3836913': defaultdict(int, {}),\n",
       " 'PMC4162557': defaultdict(int, {}),\n",
       " 'PMC4542470': defaultdict(int, {}),\n",
       " 'PMC5731848': defaultdict(int, {'NGD': 21, 'YGD': 6}),\n",
       " 'PMC5026174': defaultdict(int, {}),\n",
       " 'PMC6008929': defaultdict(int, {'NGD': 1}),\n",
       " 'PMC5959848': defaultdict(int, {}),\n",
       " 'PMC2946298': defaultdict(int, {}),\n",
       " 'PMC4499843': defaultdict(int, {}),\n",
       " 'PMC5890137': defaultdict(int, {'YGD': 6, 'NGD': 2}),\n",
       " 'PMC4352028': defaultdict(int, {}),\n",
       " 'PMC4951087': defaultdict(int, {}),\n",
       " 'PMC2987983': defaultdict(int, {'YGD': 16, 'AMB': 1, 'NGD': 1}),\n",
       " 'PMC3402998': defaultdict(int, {}),\n",
       " 'PMC3115949': defaultdict(int, {}),\n",
       " 'PMC4589515': defaultdict(int, {'NGD': 2}),\n",
       " 'PMC5510223': defaultdict(int, {}),\n",
       " 'PMC2727484': defaultdict(int, {}),\n",
       " 'PMC3464611': defaultdict(int, {}),\n",
       " 'PMC4441378': defaultdict(int, {}),\n",
       " 'PMC2478677': defaultdict(int, {'YGD': 1}),\n",
       " 'PMC2806293': defaultdict(int, {}),\n",
       " 'PMC4647564': defaultdict(int, {}),\n",
       " 'PMC4866616': defaultdict(int, {}),\n",
       " 'PMC5530482': defaultdict(int, {'YGD': 4, 'NGD': 4}),\n",
       " 'PMC2664782': defaultdict(int, {}),\n",
       " 'PMC5816796': defaultdict(int, {}),\n",
       " 'PMC3844564': defaultdict(int, {}),\n",
       " 'PMC5770383': defaultdict(int, {}),\n",
       " 'PMC5567653': defaultdict(int, {}),\n",
       " 'PMC4697806': defaultdict(int, {}),\n",
       " 'PMC5457019': defaultdict(int, {}),\n",
       " 'PMC5297700': defaultdict(int, {}),\n",
       " 'PMC4683867': defaultdict(int, {}),\n",
       " 'PMC4244103': defaultdict(int, {}),\n",
       " 'PMC2639708': defaultdict(int, {'YGD': 33, 'NGD': 19, 'AMB': 1}),\n",
       " 'PMC4791522': defaultdict(int, {'NGD': 2}),\n",
       " 'PMC5307887': defaultdict(int, {}),\n",
       " 'PMC4311248': defaultdict(int, {}),\n",
       " 'PMC4658497': defaultdict(int, {}),\n",
       " 'PMC3611597': defaultdict(int, {'YGD': 3}),\n",
       " 'PMC1187897': defaultdict(int, {}),\n",
       " 'PMC4991502': defaultdict(int, {'NGD': 33, 'YGD': 22}),\n",
       " 'PMC3231843': defaultdict(int, {}),\n",
       " 'PMC3859478': defaultdict(int, {}),\n",
       " 'PMC5723443': defaultdict(int, {}),\n",
       " 'PMC5217317': defaultdict(int, {}),\n",
       " 'PMC6032655': defaultdict(int, {}),\n",
       " 'PMC3029330': defaultdict(int, {'AMB': 1, 'YGD': 36}),\n",
       " 'PMC4306119': defaultdict(int, {}),\n",
       " 'PMC2443369': defaultdict(int, {}),\n",
       " 'PMC4971634': defaultdict(int, {}),\n",
       " 'PMC2895614': defaultdict(int, {'YGD': 62, 'NGD': 11, 'AMB': 2}),\n",
       " 'PMC4780767': defaultdict(int, {}),\n",
       " 'PMC5078810': defaultdict(int, {}),\n",
       " 'PMC4947190': defaultdict(int, {}),\n",
       " 'PMC4976205': defaultdict(int, {}),\n",
       " 'PMC2292144': defaultdict(int, {'YGD': 2}),\n",
       " 'PMC4808240': defaultdict(int, {}),\n",
       " 'PMC3458065': defaultdict(int, {})}"
      ]
     },
     "execution_count": 14,
     "metadata": {},
     "output_type": "execute_result"
    }
   ],
   "source": [
    "article_rel_stats"
   ]
  },
  {
   "cell_type": "code",
   "execution_count": 15,
   "metadata": {
    "pycharm": {
     "is_executing": false,
     "name": "#%%\n"
    }
   },
   "outputs": [],
   "source": [
    "article_gp_stats = {}\n",
    "article_ds_stats = {}\n",
    "article_og_stats = {}\n",
    "for pmcid in article_ner_stats:\n",
    "    article_gp_stats[pmcid] = defaultdict(int)\n",
    "    article_ds_stats[pmcid] = defaultdict(int)\n",
    "    article_og_stats[pmcid] = defaultdict(int)\n",
    "    for key in article_ner_stats[pmcid]:\n",
    "        if key == 'GP':\n",
    "            for ent in article_ner_stats[pmcid][key]:\n",
    "                article_gp_stats[pmcid][ent[-2]] += 1\n",
    "        if key == 'DS':\n",
    "            for ent in article_ner_stats[pmcid][key]:\n",
    "                article_ds_stats[pmcid][ent[-2]] += 1\n",
    "        if key == 'OG':\n",
    "            for ent in article_ner_stats[pmcid][key]:\n",
    "                article_og_stats[pmcid][ent[-2]] += 1"
   ]
  },
  {
   "cell_type": "code",
   "execution_count": 16,
   "metadata": {
    "pycharm": {
     "is_executing": false,
     "name": "#%%\n"
    }
   },
   "outputs": [],
   "source": [
    "#unique gp count per article\n",
    "unique_gp_per = {pmcid:len(article_gp_stats[pmcid]) for pmcid in article_gp_stats}\n",
    "#unique ds count per article\n",
    "unique_ds_per = {pmcid:len(article_ds_stats[pmcid]) for pmcid in article_ds_stats}\n",
    "#unique og count per aticle\n",
    "unique_og_per = {pmcid:len(article_og_stats[pmcid]) for pmcid in article_og_stats}"
   ]
  },
  {
   "cell_type": "code",
   "execution_count": 17,
   "metadata": {
    "pycharm": {
     "is_executing": false,
     "name": "#%%\n"
    }
   },
   "outputs": [],
   "source": [
    "#gp count per article\n",
    "gp_per = {pmcid:sum([article_gp_stats[pmcid][key] for key in article_gp_stats[pmcid]]) for pmcid in article_gp_stats}\n",
    "#ds count per article\n",
    "ds_per = {pmcid:sum([article_ds_stats[pmcid][key] for key in article_ds_stats[pmcid]]) for pmcid in article_ds_stats}\n",
    "#og count per article\n",
    "og_per = {pmcid:sum([article_og_stats[pmcid][key] for key in article_og_stats[pmcid]]) for pmcid in article_og_stats}"
   ]
  },
  {
   "cell_type": "code",
   "execution_count": 18,
   "metadata": {
    "pycharm": {
     "is_executing": false,
     "name": "#%%\n"
    }
   },
   "outputs": [
    {
     "data": {
      "text/plain": [
       "{'PMC4792959': 54,\n",
       " 'PMC4556948': 125,\n",
       " 'PMC5993813': 141,\n",
       " 'PMC3174205': 16,\n",
       " 'PMC5962829': 3,\n",
       " 'PMC3874094': 46,\n",
       " 'PMC3792120': 0,\n",
       " 'PMC4901335': 0,\n",
       " 'PMC3581133': 0,\n",
       " 'PMC2935479': 20,\n",
       " 'PMC5225553': 65,\n",
       " 'PMC5744400': 36,\n",
       " 'PMC3281816': 90,\n",
       " 'PMC3583137': 50,\n",
       " 'PMC4022742': 54,\n",
       " 'PMC3542345': 148,\n",
       " 'PMC4452330': 25,\n",
       " 'PMC4464872': 25,\n",
       " 'PMC4872455': 61,\n",
       " 'PMC3651197': 61,\n",
       " 'PMC3362782': 0,\n",
       " 'PMC5817132': 0,\n",
       " 'PMC4313693': 34,\n",
       " 'PMC4489904': 0,\n",
       " 'PMC4552872': 0,\n",
       " 'PMC5376652': 42,\n",
       " 'PMC5070310': 1,\n",
       " 'PMC5921292': 0,\n",
       " 'PMC5641157': 19,\n",
       " 'PMC3751948': 7,\n",
       " 'PMC5472290': 0,\n",
       " 'PMC4649626': 10,\n",
       " 'PMC5502978': 40,\n",
       " 'PMC4767726': 26,\n",
       " 'PMC3897916': 0,\n",
       " 'PMC5087830': 76,\n",
       " 'PMC3585192': 0,\n",
       " 'PMC5484670': 67,\n",
       " 'PMC5259676': 0,\n",
       " 'PMC3024232': 72,\n",
       " 'PMC3097211': 75,\n",
       " 'PMC5317055': 0,\n",
       " 'PMC3648400': 3,\n",
       " 'PMC5750880': 9,\n",
       " 'PMC5100220': 0,\n",
       " 'PMC4749753': 13,\n",
       " 'PMC5344356': 45,\n",
       " 'PMC5110973': 64,\n",
       " 'PMC5708618': 1,\n",
       " 'PMC3598673': 24,\n",
       " 'PMC3751959': 44,\n",
       " 'PMC5131611': 8,\n",
       " 'PMC5891595': 0,\n",
       " 'PMC3950279': 38,\n",
       " 'PMC5972578': 2,\n",
       " 'PMC5082793': 1,\n",
       " 'PMC5487420': 115,\n",
       " 'PMC5106849': 3,\n",
       " 'PMC3858553': 20,\n",
       " 'PMC3613406': 50,\n",
       " 'PMC4167147': 28,\n",
       " 'PMC3599585': 5,\n",
       " 'PMC2761781': 0,\n",
       " 'PMC3899050': 57,\n",
       " 'PMC2481430': 13,\n",
       " 'PMC5006041': 0,\n",
       " 'PMC4790888': 0,\n",
       " 'PMC3892176': 53,\n",
       " 'PMC5126123': 5,\n",
       " 'PMC4743178': 0,\n",
       " 'PMC3322675': 6,\n",
       " 'PMC3938772': 42,\n",
       " 'PMC5832847': 7,\n",
       " 'PMC4067685': 1,\n",
       " 'PMC5260044': 0,\n",
       " 'PMC3972685': 135,\n",
       " 'PMC5982820': 0,\n",
       " 'PMC4618948': 0,\n",
       " 'PMC4831690': 3,\n",
       " 'PMC4753424': 1,\n",
       " 'PMC4340678': 60,\n",
       " 'PMC2757916': 0,\n",
       " 'PMC3439437': 0,\n",
       " 'PMC3233425': 9,\n",
       " 'PMC4603952': 0,\n",
       " 'PMC4128218': 0,\n",
       " 'PMC4940692': 0,\n",
       " 'PMC6083812': 24,\n",
       " 'PMC3304128': 0,\n",
       " 'PMC4276928': 37,\n",
       " 'PMC5395742': 79,\n",
       " 'PMC3800775': 0,\n",
       " 'PMC5703515': 0,\n",
       " 'PMC3388477': 16,\n",
       " 'PMC2474741': 31,\n",
       " 'PMC2268669': 119,\n",
       " 'PMC5350351': 74,\n",
       " 'PMC5979449': 29,\n",
       " 'PMC4531540': 101,\n",
       " 'PMC4056076': 0,\n",
       " 'PMC4554469': 4,\n",
       " 'PMC3125229': 0,\n",
       " 'PMC4189602': 6,\n",
       " 'PMC4627615': 2,\n",
       " 'PMC4921679': 30,\n",
       " 'PMC5785827': 1,\n",
       " 'PMC6069148': 0,\n",
       " 'PMC4607270': 0,\n",
       " 'PMC5521126': 42,\n",
       " 'PMC5666160': 43,\n",
       " 'PMC4978644': 1,\n",
       " 'PMC5278426': 49,\n",
       " 'PMC1762380': 19,\n",
       " 'PMC4764649': 37,\n",
       " 'PMC2424173': 30,\n",
       " 'PMC4789058': 3,\n",
       " 'PMC5891899': 72,\n",
       " 'PMC2644373': 0,\n",
       " 'PMC4931053': 14,\n",
       " 'PMC5120353': 110,\n",
       " 'PMC3867463': 0,\n",
       " 'PMC5530572': 1,\n",
       " 'PMC4540425': 23,\n",
       " 'PMC3260253': 7,\n",
       " 'PMC3189878': 0,\n",
       " 'PMC3306317': 9,\n",
       " 'PMC4263299': 5,\n",
       " 'PMC5468280': 8,\n",
       " 'PMC4465466': 37,\n",
       " 'PMC5141432': 28,\n",
       " 'PMC2720973': 62,\n",
       " 'PMC5889178': 0,\n",
       " 'PMC4349710': 1,\n",
       " 'PMC3960246': 8,\n",
       " 'PMC6037156': 0,\n",
       " 'PMC5298922': 32,\n",
       " 'PMC4494930': 51,\n",
       " 'PMC3829848': 51,\n",
       " 'PMC4954838': 11,\n",
       " 'PMC4200311': 57,\n",
       " 'PMC5315555': 31,\n",
       " 'PMC5607173': 29,\n",
       " 'PMC5730077': 0,\n",
       " 'PMC5462789': 0,\n",
       " 'PMC4109790': 68,\n",
       " 'PMC5637056': 52,\n",
       " 'PMC3291930': 0,\n",
       " 'PMC5999171': 8,\n",
       " 'PMC5920331': 88,\n",
       " 'PMC5362908': 33,\n",
       " 'PMC4816555': 24,\n",
       " 'PMC4768280': 0,\n",
       " 'PMC3494018': 17,\n",
       " 'PMC5462825': 0,\n",
       " 'PMC5706499': 58,\n",
       " 'PMC4574349': 79,\n",
       " 'PMC4320556': 0,\n",
       " 'PMC3478264': 20,\n",
       " 'PMC4405200': 86,\n",
       " 'PMC5619751': 43,\n",
       " 'PMC3020944': 27,\n",
       " 'PMC5486778': 4,\n",
       " 'PMC5356474': 2,\n",
       " 'PMC5009309': 73,\n",
       " 'PMC4359122': 0,\n",
       " 'PMC4128749': 13,\n",
       " 'PMC5134075': 0,\n",
       " 'PMC5286694': 0,\n",
       " 'PMC3228540': 0,\n",
       " 'PMC5241644': 0,\n",
       " 'PMC4899918': 0,\n",
       " 'PMC2731044': 0,\n",
       " 'PMC4302291': 15,\n",
       " 'PMC3836741': 31,\n",
       " 'PMC4414469': 3,\n",
       " 'PMC5680628': 0,\n",
       " 'PMC4794213': 0,\n",
       " 'PMC4237798': 0,\n",
       " 'PMC3895799': 25,\n",
       " 'PMC4051664': 52,\n",
       " 'PMC5302783': 11,\n",
       " 'PMC2936521': 25,\n",
       " 'PMC4923249': 8,\n",
       " 'PMC5249225': 39,\n",
       " 'PMC4871916': 0,\n",
       " 'PMC4384350': 1,\n",
       " 'PMC5528876': 0,\n",
       " 'PMC4944956': 54,\n",
       " 'PMC5770482': 3,\n",
       " 'PMC3981893': 57,\n",
       " 'PMC5779698': 40,\n",
       " 'PMC4090160': 0,\n",
       " 'PMC6069223': 0,\n",
       " 'PMC5306324': 0,\n",
       " 'PMC4417603': 85,\n",
       " 'PMC3365900': 49,\n",
       " 'PMC4262987': 6,\n",
       " 'PMC4841026': 35,\n",
       " 'PMC3502096': 46,\n",
       " 'PMC4973533': 0,\n",
       " 'PMC5244658': 0,\n",
       " 'PMC3119053': 65,\n",
       " 'PMC4766309': 3,\n",
       " 'PMC5685608': 15,\n",
       " 'PMC1971115': 29,\n",
       " 'PMC5367487': 0,\n",
       " 'PMC5617383': 26,\n",
       " 'PMC3543396': 7,\n",
       " 'PMC4294342': 37,\n",
       " 'PMC3534334': 25,\n",
       " 'PMC4964887': 0,\n",
       " 'PMC6035403': 18,\n",
       " 'PMC4912736': 3,\n",
       " 'PMC3035578': 23,\n",
       " 'PMC5004205': 25,\n",
       " 'PMC4156656': 21,\n",
       " 'PMC2233677': 38,\n",
       " 'PMC4200867': 29,\n",
       " 'PMC4914568': 67,\n",
       " 'PMC2904378': 26,\n",
       " 'PMC5216082': 80,\n",
       " 'PMC3787392': 82,\n",
       " 'PMC6023005': 0,\n",
       " 'PMC3949526': 16,\n",
       " 'PMC3435272': 0,\n",
       " 'PMC3031208': 0,\n",
       " 'PMC4892805': 5,\n",
       " 'PMC5369143': 0,\n",
       " 'PMC4906686': 10,\n",
       " 'PMC3316545': 54,\n",
       " 'PMC4051163': 178,\n",
       " 'PMC4010498': 41,\n",
       " 'PMC5227166': 1,\n",
       " 'PMC3061204': 0,\n",
       " 'PMC2386054': 50,\n",
       " 'PMC3584731': 0,\n",
       " 'PMC5426787': 40,\n",
       " 'PMC5722940': 48,\n",
       " 'PMC4462005': 0,\n",
       " 'PMC3692464': 0,\n",
       " 'PMC3836913': 25,\n",
       " 'PMC4162557': 14,\n",
       " 'PMC4542470': 36,\n",
       " 'PMC5731848': 49,\n",
       " 'PMC5026174': 0,\n",
       " 'PMC6008929': 3,\n",
       " 'PMC5959848': 58,\n",
       " 'PMC2946298': 0,\n",
       " 'PMC4499843': 67,\n",
       " 'PMC5890137': 19,\n",
       " 'PMC4352028': 51,\n",
       " 'PMC4951087': 2,\n",
       " 'PMC2987983': 89,\n",
       " 'PMC3402998': 62,\n",
       " 'PMC3115949': 68,\n",
       " 'PMC4589515': 27,\n",
       " 'PMC5510223': 1,\n",
       " 'PMC2727484': 59,\n",
       " 'PMC3464611': 88,\n",
       " 'PMC4441378': 4,\n",
       " 'PMC2478677': 9,\n",
       " 'PMC2806293': 3,\n",
       " 'PMC4647564': 36,\n",
       " 'PMC4866616': 0,\n",
       " 'PMC5530482': 21,\n",
       " 'PMC2664782': 0,\n",
       " 'PMC5816796': 0,\n",
       " 'PMC3844564': 62,\n",
       " 'PMC5770383': 32,\n",
       " 'PMC5567653': 37,\n",
       " 'PMC4697806': 3,\n",
       " 'PMC5457019': 0,\n",
       " 'PMC5297700': 43,\n",
       " 'PMC4683867': 0,\n",
       " 'PMC4244103': 1,\n",
       " 'PMC2639708': 77,\n",
       " 'PMC4791522': 36,\n",
       " 'PMC5307887': 0,\n",
       " 'PMC4311248': 63,\n",
       " 'PMC4658497': 0,\n",
       " 'PMC3611597': 48,\n",
       " 'PMC1187897': 0,\n",
       " 'PMC4991502': 68,\n",
       " 'PMC3231843': 105,\n",
       " 'PMC3859478': 0,\n",
       " 'PMC5723443': 0,\n",
       " 'PMC5217317': 0,\n",
       " 'PMC6032655': 10,\n",
       " 'PMC3029330': 52,\n",
       " 'PMC4306119': 1,\n",
       " 'PMC2443369': 44,\n",
       " 'PMC4971634': 0,\n",
       " 'PMC2895614': 50,\n",
       " 'PMC4780767': 55,\n",
       " 'PMC5078810': 0,\n",
       " 'PMC4947190': 0,\n",
       " 'PMC4976205': 0,\n",
       " 'PMC2292144': 29,\n",
       " 'PMC4808240': 2,\n",
       " 'PMC3458065': 37}"
      ]
     },
     "execution_count": 18,
     "metadata": {},
     "output_type": "execute_result"
    }
   ],
   "source": [
    "unique_gp_per"
   ]
  },
  {
   "cell_type": "code",
   "execution_count": null,
   "metadata": {
    "pycharm": {
     "name": "#%%\n"
    }
   },
   "outputs": [],
   "source": [
    "print(\n",
    "f\"\"\"gp median: {np.median([it[1] for it in gp_per.items()])}\n",
    "ds median: {np.median([it[1] for it in ds_per.items()])}\n",
    "og median: {np.median([it[1] for it in og_per.items()])}\"\"\" \n",
    "    )"
   ]
  },
  {
   "cell_type": "code",
   "execution_count": null,
   "metadata": {
    "pycharm": {
     "name": "#%%\n"
    }
   },
   "outputs": [],
   "source": [
    "print(\n",
    "f\"\"\"gp min: {np.min([it[1] for it in gp_per.items()])}\n",
    "ds min: {np.min([it[1] for it in ds_per.items()])}\n",
    "og min: {np.min([it[1] for it in og_per.items()])}\"\"\" \n",
    "    )\n"
   ]
  },
  {
   "cell_type": "code",
   "execution_count": null,
   "metadata": {
    "pycharm": {
     "name": "#%%\n"
    }
   },
   "outputs": [],
   "source": [
    "print(\n",
    "f\"\"\"gp max: {np.max([it[1] for it in gp_per.items()])}\n",
    "ds max: {np.max([it[1] for it in ds_per.items()])}\n",
    "og max: {np.max([it[1] for it in og_per.items()])}\"\"\" \n",
    "    )"
   ]
  },
  {
   "cell_type": "code",
   "execution_count": 22,
   "metadata": {
    "pycharm": {
     "is_executing": false,
     "name": "#%%\n"
    }
   },
   "outputs": [
    {
     "name": "stdout",
     "output_type": "stream",
     "text": [
      "unique:\n",
      "gp median: 13.0\n",
      "ds median: 7.0\n",
      "og median: 8.0\n"
     ]
    }
   ],
   "source": [
    "print(\n",
    "f\"\"\"unique:\n",
    "gp median: {np.median([it[1] for it in unique_gp_per.items()])}\n",
    "ds median: {np.median([it[1] for it in unique_ds_per.items()])}\n",
    "og median: {np.median([it[1] for it in unique_og_per.items()])}\"\"\" \n",
    "    )"
   ]
  },
  {
   "cell_type": "code",
   "execution_count": 23,
   "metadata": {
    "pycharm": {
     "is_executing": false,
     "name": "#%%\n"
    }
   },
   "outputs": [
    {
     "name": "stdout",
     "output_type": "stream",
     "text": [
      "unique:\n",
      "gp min: 0\n",
      "ds min: 0\n",
      "og min: 0\n"
     ]
    }
   ],
   "source": [
    "print(\n",
    "f\"\"\"unique:\n",
    "gp min: {np.min([it[1] for it in unique_gp_per.items()])}\n",
    "ds min: {np.min([it[1] for it in unique_ds_per.items()])}\n",
    "og min: {np.min([it[1] for it in unique_og_per.items()])}\"\"\" \n",
    "    )\n"
   ]
  },
  {
   "cell_type": "code",
   "execution_count": 24,
   "metadata": {
    "pycharm": {
     "is_executing": false,
     "name": "#%%\n"
    }
   },
   "outputs": [
    {
     "name": "stdout",
     "output_type": "stream",
     "text": [
      "unique:\n",
      "gp max: 178\n",
      "ds max: 77\n",
      "og max: 170\n"
     ]
    }
   ],
   "source": [
    "print(\n",
    "f\"\"\"unique:\n",
    "gp max: {np.max([it[1] for it in unique_gp_per.items()])}\n",
    "ds max: {np.max([it[1] for it in unique_ds_per.items()])}\n",
    "og max: {np.max([it[1] for it in unique_og_per.items()])}\"\"\" \n",
    "    )"
   ]
  },
  {
   "cell_type": "code",
   "execution_count": null,
   "metadata": {
    "pycharm": {
     "name": "#%%\n"
    }
   },
   "outputs": [],
   "source": [
    "\n"
   ]
  }
 ],
 "metadata": {
  "kernelspec": {
   "display_name": "Python 3 (ipykernel)",
   "language": "python",
   "name": "python3"
  },
  "language_info": {
   "codemirror_mode": {
    "name": "ipython",
    "version": 3
   },
   "file_extension": ".py",
   "mimetype": "text/x-python",
   "name": "python",
   "nbconvert_exporter": "python",
   "pygments_lexer": "ipython3",
   "version": "3.9.7"
  },
  "pycharm": {
   "stem_cell": {
    "cell_type": "raw",
    "metadata": {
     "collapsed": false
    },
    "source": []
   }
  }
 },
 "nbformat": 4,
 "nbformat_minor": 1
}
